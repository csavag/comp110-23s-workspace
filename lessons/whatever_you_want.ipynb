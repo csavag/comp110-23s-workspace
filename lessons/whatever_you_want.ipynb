{
 "cells": [
  {
   "attachments": {},
   "cell_type": "markdown",
   "metadata": {},
   "source": [
    "# Quantifying Shakespeare\n",
    "Analyzing the frequiencies of different letters in Shakespeare's work\n",
    "\n",
    "Data from bit.ly/shakespeare-txt\n",
    "\n",
    "Frequencies of letters used in all of Shakespeare's works in a bar graph."
   ]
  },
  {
   "cell_type": "code",
   "execution_count": 1,
   "metadata": {},
   "outputs": [
    {
     "name": "stdout",
     "output_type": "stream",
     "text": [
      "124456\n"
     ]
    }
   ],
   "source": [
    "from io import TextIOWrapper\n",
    "\n",
    "def read_lines(filename: str) -> list[str]:\n",
    "    \"\"\"Read txt file into lst of str for each line\"\"\"\n",
    "    lines = []\n",
    "    file_handle: TextIOWrapper = open(filename, \"r\")\n",
    "    for line in file_handle:\n",
    "        #strip leading and tailing whitespaces \" a \" -> \"a\"\n",
    "        line = line.strip()\n",
    "        #make everything lowercase\n",
    "        line = line.lower()\n",
    "        lines.append(line)\n",
    "    file_handle.close()\n",
    "    return lines\n",
    "\n",
    "shakespeare_lines: list[str] = read_lines(\"../data/t8.shakespeare.txt\")\n",
    "print(len(shakespeare_lines))"
   ]
  },
  {
   "cell_type": "code",
   "execution_count": 2,
   "metadata": {},
   "outputs": [],
   "source": [
    "def tally(counts: dict[str, int], key: str) -> None:\n",
    "    \"\"\"Docstring goddammit.\"\"\"\n",
    "    if key in counts:\n",
    "        counts[key] += 1\n",
    "    else:\n",
    "        counts[key] = 1\n",
    "\n"
   ]
  },
  {
   "cell_type": "code",
   "execution_count": 5,
   "metadata": {},
   "outputs": [],
   "source": [
    "def count_letters(lines: list[str]) -> dict[str, int]:\n",
    "    \"\"\"Goddammit it's a docstring.\"\"\"\n",
    "    return_dict = {}\n",
    "    for each in lines:\n",
    "        for character in each:\n",
    "            if character.isalpha():\n",
    "                tally(return_dict, character)\n",
    "    return return_dict\n",
    "letter_count = count_letters(shakespeare_lines)"
   ]
  },
  {
   "attachments": {},
   "cell_type": "markdown",
   "metadata": {},
   "source": [
    "## Sorting dictionaries"
   ]
  },
  {
   "cell_type": "code",
   "execution_count": 6,
   "metadata": {},
   "outputs": [
    {
     "ename": "TypeError",
     "evalue": "tuple expected at most 1 argument, got 2",
     "output_type": "error",
     "traceback": [
      "\u001b[1;31m---------------------------------------------------------------------------\u001b[0m",
      "\u001b[1;31mTypeError\u001b[0m                                 Traceback (most recent call last)",
      "\u001b[1;32mc:\\Users\\colin\\comp110-23s-workspace\\lessons\\whatever_you_want.ipynb Cell 6\u001b[0m in \u001b[0;36m2\n\u001b[0;32m      <a href='vscode-notebook-cell:/c%3A/Users/colin/comp110-23s-workspace/lessons/whatever_you_want.ipynb#W6sZmlsZQ%3D%3D?line=0'>1</a>\u001b[0m \u001b[39m#Make my dictionary a list\u001b[39;00m\n\u001b[1;32m----> <a href='vscode-notebook-cell:/c%3A/Users/colin/comp110-23s-workspace/lessons/whatever_you_want.ipynb#W6sZmlsZQ%3D%3D?line=1'>2</a>\u001b[0m list_version: \u001b[39mlist\u001b[39m[\u001b[39mtuple\u001b[39;49m(\u001b[39mstr\u001b[39;49m,\u001b[39mint\u001b[39;49m)] \u001b[39m=\u001b[39m \u001b[39mlist\u001b[39m(letter_count\u001b[39m.\u001b[39mitems())\n\u001b[0;32m      <a href='vscode-notebook-cell:/c%3A/Users/colin/comp110-23s-workspace/lessons/whatever_you_want.ipynb#W6sZmlsZQ%3D%3D?line=2'>3</a>\u001b[0m \u001b[39mprint\u001b[39m(list_version)\n\u001b[0;32m      <a href='vscode-notebook-cell:/c%3A/Users/colin/comp110-23s-workspace/lessons/whatever_you_want.ipynb#W6sZmlsZQ%3D%3D?line=4'>5</a>\u001b[0m \u001b[39m#Sort a list\u001b[39;00m\n",
      "\u001b[1;31mTypeError\u001b[0m: tuple expected at most 1 argument, got 2"
     ]
    }
   ],
   "source": [
    "#Make my dictionary a list\n",
    "list_version: list[tuple(str,int)] = list(letter_count.items())\n",
    "print(list_version)\n",
    "\n",
    "#Sort a list\n",
    "sorted_letters_list = sorted(list_version)\n",
    "print(sorted_letters_list)\n",
    "sorted_letters_dict = dict(sorted_letters_list)"
   ]
  },
  {
   "cell_type": "code",
   "execution_count": null,
   "metadata": {},
   "outputs": [],
   "source": [
    "from matplotlib import pyplot\n",
    "\n",
    "pyplot.title(\"Letters frquency\")\n",
    "pyplot.xlabel(\"Letters\")\n",
    "pyplot.ylabel(\"Frequency\")\n",
    "labels: list[str] = list(sorted_letters_dict.keys())\n",
    "values: list[int] = list(sorted_letters_dict.values())\n",
    "pyplot.bar(labels, values)"
   ]
  }
 ],
 "metadata": {
  "kernelspec": {
   "display_name": "Python 3",
   "language": "python",
   "name": "python3"
  },
  "language_info": {
   "codemirror_mode": {
    "name": "ipython",
    "version": 3
   },
   "file_extension": ".py",
   "mimetype": "text/x-python",
   "name": "python",
   "nbconvert_exporter": "python",
   "pygments_lexer": "ipython3",
   "version": "3.9.13"
  },
  "orig_nbformat": 4
 },
 "nbformat": 4,
 "nbformat_minor": 2
}
